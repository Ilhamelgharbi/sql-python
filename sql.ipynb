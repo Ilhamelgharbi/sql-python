{
 "cells": [
  {
   "cell_type": "code",
   "execution_count": 106,
   "id": "b9ab9fb9",
   "metadata": {},
   "outputs": [
    {
     "name": "stdout",
     "output_type": "stream",
     "text": [
      "2025-07-09 16:37:06,566 INFO sqlalchemy.engine.Engine select pg_catalog.version()\n",
      "2025-07-09 16:37:06,567 INFO sqlalchemy.engine.Engine [raw sql] {}\n",
      "2025-07-09 16:37:06,569 INFO sqlalchemy.engine.Engine select current_schema()\n",
      "2025-07-09 16:37:06,569 INFO sqlalchemy.engine.Engine [raw sql] {}\n",
      "2025-07-09 16:37:06,571 INFO sqlalchemy.engine.Engine show standard_conforming_strings\n",
      "2025-07-09 16:37:06,571 INFO sqlalchemy.engine.Engine [raw sql] {}\n",
      "✅ Connexion réussie \n"
     ]
    }
   ],
   "source": [
    "# 1. Configuration et connexion à PostgreSQL\n",
    "import os\n",
    "from dotenv import load_dotenv\n",
    "from sqlalchemy import create_engine, func ,select, MetaData, Table, Column, Integer, String, DateTime, ForeignKey, Numeric\n",
    "\n",
    "# Charger les variables d'environnement\n",
    "load_dotenv()\n",
    "\n",
    "# Récupérer les paramètres de connexion\n",
    "DB_HOST = os.getenv(\"DB_HOST\")\n",
    "DB_PORT = os.getenv(\"DB_PORT\")\n",
    "DB_NAME = os.getenv(\"DB_NAME\")\n",
    "DB_USER = os.getenv(\"DB_USER\")\n",
    "DB_PASSWORD = os.getenv(\"DB_PASSWORD\")\n",
    "\n",
    "# Créer l'URL de connexion\n",
    "DATABASE_URL = f\"postgresql+psycopg2://{DB_USER}:{DB_PASSWORD}@{DB_HOST}:{DB_PORT}/{DB_NAME}\"\n",
    "\n",
    "# Créer le moteur SQLAlchemy\n",
    "engine = create_engine(DATABASE_URL, echo=True)\n",
    "\n",
    "# Créer une connexion persistante\n",
    "connection = None\n",
    "try:\n",
    "    connection = engine.connect()\n",
    "    \n",
    "    print(f\"✅ Connexion réussie \")\n",
    "except Exception as e:\n",
    "    print(f\"❌ Erreur de connexion : {e}\")\n",
    "    connection = None"
   ]
  },
  {
   "cell_type": "code",
   "execution_count": 107,
   "id": "20c07a71",
   "metadata": {},
   "outputs": [],
   "source": [
    "# 2. Définition des tables avec SQLAlchemy\n",
    "metadata = MetaData()\n",
    "\n",
    "# Table clients\n",
    "clients = Table(\n",
    "    'clients', metadata,\n",
    "    Column('client_id', Integer, primary_key=True),\n",
    "    Column('first_name', String(50), nullable=False),\n",
    "    Column('last_name', String(50), nullable=False),\n",
    "    Column('email', String(100), nullable=False, unique=True),\n",
    "    Column('phone_number', String(15), nullable=True)\n",
    ")\n",
    "\n",
    "# Table destinations\n",
    "destinations = Table(\n",
    "    'destinations', metadata,\n",
    "    Column('destination_id', Integer, primary_key=True),\n",
    "    Column('name', String(100), nullable=False),\n",
    "    Column('country', String(100), nullable=True),\n",
    "    Column('price_per_person', Numeric(10, 2), nullable=False)\n",
    ")\n",
    "\n",
    "# Table bookings\n",
    "bookings = Table(\n",
    "    'bookings', metadata,\n",
    "    Column('booking_id', Integer, primary_key=True),\n",
    "    Column('client_id', Integer, ForeignKey('clients.client_id'), nullable=False),\n",
    "    Column('booking_date', DateTime, nullable=False),\n",
    "    Column('total_price', Numeric(10, 2), nullable=False)\n",
    ")\n",
    "\n",
    "# Table booking_items\n",
    "booking_items = Table(\n",
    "    'booking_items', metadata,\n",
    "    Column('item_id', Integer, primary_key=True),\n",
    "    Column('booking_id', Integer, ForeignKey('bookings.booking_id'), nullable=False),\n",
    "    Column('destination_id', Integer, ForeignKey('destinations.destination_id'), nullable=False),\n",
    "    Column('travelers_count', Integer, nullable=False)\n",
    ")\n"
   ]
  },
  {
   "cell_type": "code",
   "execution_count": 108,
   "id": "30ea4cbf",
   "metadata": {},
   "outputs": [
    {
     "name": "stdout",
     "output_type": "stream",
     "text": [
      "2025-07-09 16:37:06,636 INFO sqlalchemy.engine.Engine BEGIN (implicit)\n",
      "2025-07-09 16:37:06,639 INFO sqlalchemy.engine.Engine SELECT pg_catalog.pg_class.relname \n",
      "FROM pg_catalog.pg_class JOIN pg_catalog.pg_namespace ON pg_catalog.pg_namespace.oid = pg_catalog.pg_class.relnamespace \n",
      "WHERE pg_catalog.pg_class.relname = %(table_name)s AND pg_catalog.pg_class.relkind = ANY (ARRAY[%(param_1)s, %(param_2)s, %(param_3)s, %(param_4)s, %(param_5)s]) AND pg_catalog.pg_table_is_visible(pg_catalog.pg_class.oid) AND pg_catalog.pg_namespace.nspname != %(nspname_1)s\n",
      "2025-07-09 16:37:06,639 INFO sqlalchemy.engine.Engine [generated in 0.00085s] {'table_name': 'clients', 'param_1': 'r', 'param_2': 'p', 'param_3': 'f', 'param_4': 'v', 'param_5': 'm', 'nspname_1': 'pg_catalog'}\n",
      "2025-07-09 16:37:06,647 INFO sqlalchemy.engine.Engine SELECT pg_catalog.pg_class.relname \n",
      "FROM pg_catalog.pg_class JOIN pg_catalog.pg_namespace ON pg_catalog.pg_namespace.oid = pg_catalog.pg_class.relnamespace \n",
      "WHERE pg_catalog.pg_class.relname = %(table_name)s AND pg_catalog.pg_class.relkind = ANY (ARRAY[%(param_1)s, %(param_2)s, %(param_3)s, %(param_4)s, %(param_5)s]) AND pg_catalog.pg_table_is_visible(pg_catalog.pg_class.oid) AND pg_catalog.pg_namespace.nspname != %(nspname_1)s\n",
      "2025-07-09 16:37:06,648 INFO sqlalchemy.engine.Engine [cached since 0.009295s ago] {'table_name': 'destinations', 'param_1': 'r', 'param_2': 'p', 'param_3': 'f', 'param_4': 'v', 'param_5': 'm', 'nspname_1': 'pg_catalog'}\n",
      "2025-07-09 16:37:06,649 INFO sqlalchemy.engine.Engine SELECT pg_catalog.pg_class.relname \n",
      "FROM pg_catalog.pg_class JOIN pg_catalog.pg_namespace ON pg_catalog.pg_namespace.oid = pg_catalog.pg_class.relnamespace \n",
      "WHERE pg_catalog.pg_class.relname = %(table_name)s AND pg_catalog.pg_class.relkind = ANY (ARRAY[%(param_1)s, %(param_2)s, %(param_3)s, %(param_4)s, %(param_5)s]) AND pg_catalog.pg_table_is_visible(pg_catalog.pg_class.oid) AND pg_catalog.pg_namespace.nspname != %(nspname_1)s\n",
      "2025-07-09 16:37:06,649 INFO sqlalchemy.engine.Engine [cached since 0.01107s ago] {'table_name': 'bookings', 'param_1': 'r', 'param_2': 'p', 'param_3': 'f', 'param_4': 'v', 'param_5': 'm', 'nspname_1': 'pg_catalog'}\n",
      "2025-07-09 16:37:06,651 INFO sqlalchemy.engine.Engine SELECT pg_catalog.pg_class.relname \n",
      "FROM pg_catalog.pg_class JOIN pg_catalog.pg_namespace ON pg_catalog.pg_namespace.oid = pg_catalog.pg_class.relnamespace \n",
      "WHERE pg_catalog.pg_class.relname = %(table_name)s AND pg_catalog.pg_class.relkind = ANY (ARRAY[%(param_1)s, %(param_2)s, %(param_3)s, %(param_4)s, %(param_5)s]) AND pg_catalog.pg_table_is_visible(pg_catalog.pg_class.oid) AND pg_catalog.pg_namespace.nspname != %(nspname_1)s\n",
      "2025-07-09 16:37:06,651 INFO sqlalchemy.engine.Engine [cached since 0.01288s ago] {'table_name': 'booking_items', 'param_1': 'r', 'param_2': 'p', 'param_3': 'f', 'param_4': 'v', 'param_5': 'm', 'nspname_1': 'pg_catalog'}\n",
      "2025-07-09 16:37:06,653 INFO sqlalchemy.engine.Engine COMMIT\n",
      "Tables créées avec succès dans PostgreSQL.\n"
     ]
    }
   ],
   "source": [
    "# 3. Création des tables dans la base de données\n",
    "def create_tables():\n",
    "    if engine is not None:\n",
    "        metadata.create_all(engine)\n",
    "        print(\"Tables créées avec succès dans PostgreSQL.\")\n",
    "    else:\n",
    "        print(\"Connexion absente, impossible de créer les tables.\")\n",
    "\n",
    "# Exécuter la création des tables\n",
    "create_tables()"
   ]
  },
  {
   "cell_type": "code",
   "execution_count": 109,
   "id": "ea9f01a2",
   "metadata": {},
   "outputs": [],
   "source": [
    "# 4. Préparation des données à insérer\n",
    "\n",
    "# Données pour la table clients\n",
    "insert_clients = clients.insert().values([\n",
    "    {'first_name': 'ilham', 'last_name': 'elgharbi', 'email': 'ilham.elgharbi@example.com'},\n",
    "    {'first_name': 'John', 'last_name': 'Doe', 'email': 'john.doe@example.com'},\n",
    "    {'first_name': 'Alice', 'last_name': 'Smith', 'email': 'alice.smith@example.com'},\n",
    "    {'first_name': 'Bob', 'last_name': 'Johnson', 'email': 'bob.johnson@example.com'},\n",
    "    {'first_name': 'Charlie', 'last_name': 'Williams', 'email': 'charlie.williams@example.com'}\n",
    "])\n",
    "\n",
    "# Données pour la table destinations\n",
    "insert_destinations = destinations.insert().values([\n",
    "    {'name': 'Paris', 'country': 'France', 'price_per_person': 1500.00},\n",
    "    {'name': 'New York', 'country': 'USA', 'price_per_person': 2000.00},\n",
    "    {'name': 'Tokyo', 'country': 'Japan', 'price_per_person': 2500.00},\n",
    "    {'name': 'Sydney', 'country': 'Australia', 'price_per_person': 3000.00},\n",
    "    {'name': 'Cape Town', 'country': 'South Africa', 'price_per_person': 1800.00}\n",
    "])\n",
    "\n",
    "# Données pour la table bookings\n",
    "insert_bookings = bookings.insert().values([\n",
    "    {'client_id': 1, 'booking_date': '2023-10-01 10:00:00', 'total_price': 1500.00},\n",
    "    {'client_id': 2, 'booking_date': '2023-10-02 11:00:00', 'total_price': 2000.00},\n",
    "    {'client_id': 3, 'booking_date': '2023-10-03 12:00:00', 'total_price': 2500.00},\n",
    "])\n",
    "\n",
    "# Données pour la table booking_items\n",
    "insert_booking_items = booking_items.insert().values([\n",
    "    {'booking_id': 1, 'destination_id': 1, 'travelers_count': 2},\n",
    "    {'booking_id': 2, 'destination_id': 2, 'travelers_count': 3},\n",
    "    {'booking_id': 3, 'destination_id': 3, 'travelers_count': 1},\n",
    "])\n"
   ]
  },
  {
   "cell_type": "code",
   "execution_count": 110,
   "id": "0bffffe9",
   "metadata": {},
   "outputs": [],
   "source": [
    "def execute_insert_statements():\n",
    "    if connection is not None:\n",
    "        try:\n",
    "            # Execute each insert statement\n",
    "            result_clients = connection.execute(insert_clients)\n",
    "        \n",
    "            \n",
    "            result_destinations = connection.execute(insert_destinations)\n",
    "        \n",
    "            \n",
    "            result_bookings = connection.execute(insert_bookings)\n",
    "        \n",
    "            \n",
    "            result_booking_items = connection.execute(insert_booking_items)\n",
    "        \n",
    "            \n",
    "            # Commit the transaction to make changes permanent\n",
    "            connection.commit()\n",
    "            print(\"Toutes les données ont été insérées avec succès!\")\n",
    "            \n",
    "        except Exception as e:\n",
    "            print(f\"Erreur lors de l'insertion des données: {e}\")\n",
    "            connection.rollback()\n",
    "    else:\n",
    "        print(\"Connexion absente, impossible d'insérer les données.\")\n"
   ]
  },
  {
   "cell_type": "code",
   "execution_count": 111,
   "id": "61bc39f0",
   "metadata": {},
   "outputs": [
    {
     "name": "stdout",
     "output_type": "stream",
     "text": [
      "2025-07-09 16:37:06,691 INFO sqlalchemy.engine.Engine BEGIN (implicit)\n",
      "2025-07-09 16:37:06,692 INFO sqlalchemy.engine.Engine SELECT clients.client_id, clients.first_name, clients.last_name, clients.email, clients.phone_number \n",
      "FROM clients\n",
      "2025-07-09 16:37:06,693 INFO sqlalchemy.engine.Engine [generated in 0.00197s] {}\n",
      "=== Liste des Clients ===\n",
      "ID: 2, Nom: John Doe, Email: john.doe@example.com, Téléphone: None\n",
      "ID: 3, Nom: Alice Smith, Email: alice.smith@example.com, Téléphone: None\n",
      "ID: 4, Nom: Bob Johnson, Email: bob.johnson@example.com, Téléphone: None\n",
      "ID: 5, Nom: Charlie Williams, Email: charlie.williams@example.com, Téléphone: None\n",
      "ID: 1, Nom: ilham elgharbi, Email: kok@gmail.com, Téléphone: None\n"
     ]
    }
   ],
   "source": [
    "# 6. Fonction pour afficher les clients\n",
    "def afficher_clients():\n",
    "    if connection is not None:\n",
    "        try:\n",
    "            # Create the SELECT statement\n",
    "            select_clients = clients.select()\n",
    "            # Execute the statement using connection.execute()\n",
    "            result = connection.execute(select_clients)\n",
    "            # Iterate over the actual results\n",
    "            print(\"=== Liste des Clients ===\")\n",
    "            for row in result:\n",
    "                print(f\"ID: {row.client_id}, Nom: {row.first_name} {row.last_name}, Email: {row.email}, Téléphone: {row.phone_number}\")\n",
    "        except Exception as e:\n",
    "            print(f\"Erreur lors de l'affichage des clients: {e}\")\n",
    "    else:\n",
    "        print(\"Connexion absente, impossible d'afficher les clients.\")\n",
    "afficher_clients()"
   ]
  },
  {
   "cell_type": "code",
   "execution_count": 112,
   "id": "dd534ce9",
   "metadata": {},
   "outputs": [
    {
     "name": "stdout",
     "output_type": "stream",
     "text": [
      "2025-07-09 16:37:06,707 INFO sqlalchemy.engine.Engine SELECT destinations.destination_id, destinations.name, destinations.country, destinations.price_per_person \n",
      "FROM destinations\n",
      "2025-07-09 16:37:06,708 INFO sqlalchemy.engine.Engine [generated in 0.00073s] {}\n",
      "=== Liste des Destinations (Prix > 1000€) ===\n",
      "ID: 2, Nom: New York, Pays: USA, Prix: 2000.00€\n",
      "ID: 3, Nom: Tokyo, Pays: Japan, Prix: 2500.00€\n",
      "ID: 4, Nom: Sydney, Pays: Australia, Prix: 3000.00€\n",
      "ID: 5, Nom: Cape Town, Pays: South Africa, Prix: 1800.00€\n",
      "ID: 1, Nom: Paris, Pays: France, Prix: 4707.66€\n"
     ]
    }
   ],
   "source": [
    "# 7. Fonction pour afficher les destinations (avec filtre prix > 1000€)\n",
    "def afficher_destinations():\n",
    "    if connection is not None:\n",
    "        try:\n",
    "            # Create the SELECT statement\n",
    "            select_destinations = destinations.select()\n",
    "            # Execute the statement using connection.execute()\n",
    "            result = connection.execute(select_destinations)\n",
    "            # Iterate over the actual results\n",
    "            print(\"=== Liste des Destinations (Prix > 1000€) ===\")\n",
    "            for row in result:\n",
    "                if row.price_per_person > 1000:\n",
    "                    print(f\"ID: {row.destination_id}, Nom: {row.name}, Pays: {row.country}, Prix: {row.price_per_person}€\")\n",
    "        except Exception as e:\n",
    "            print(f\"Erreur lors de l'affichage des destinations: {e}\")\n",
    "    else:\n",
    "        print(\"Connexion absente, impossible d'afficher les destinations.\")\n",
    "\n",
    "afficher_destinations()"
   ]
  },
  {
   "cell_type": "code",
   "execution_count": 113,
   "id": "770e5001",
   "metadata": {},
   "outputs": [
    {
     "name": "stdout",
     "output_type": "stream",
     "text": [
      "2025-07-09 16:37:06,720 INFO sqlalchemy.engine.Engine SELECT bookings.booking_id, bookings.client_id, bookings.booking_date, bookings.total_price, clients.client_id AS client_id_1, clients.first_name, clients.last_name, clients.email, clients.phone_number \n",
      "FROM bookings JOIN clients ON clients.client_id = bookings.client_id\n",
      "2025-07-09 16:37:06,721 INFO sqlalchemy.engine.Engine [generated in 0.00113s] {}\n",
      "=== Liste des Réservations ===\n",
      "Booking ID: 1, Client: ilham elgharbi, Date: 2023-10-01 10:00:00, Prix: 1500.00€\n",
      "Booking ID: 2, Client: John Doe, Date: 2023-10-02 11:00:00, Prix: 2000.00€\n",
      "Booking ID: 3, Client: Alice Smith, Date: 2023-10-03 12:00:00, Prix: 2500.00€\n"
     ]
    }
   ],
   "source": [
    "# 8. Fonction pour afficher les réservations avec détails client\n",
    "def afficher_bookings():\n",
    "    if connection is not None:\n",
    "        try:\n",
    "            # Join bookings with clients to get client details\n",
    "            query = bookings.join(clients).select()\n",
    "            result = connection.execute(query)\n",
    "            \n",
    "            print(\"=== Liste des Réservations ===\")\n",
    "            for row in result:\n",
    "                print(f\"Booking ID: {row.booking_id}, Client: {row.first_name} {row.last_name}, Date: {row.booking_date}, Prix: {row.total_price}€\")\n",
    "        except Exception as e:\n",
    "            print(f\"Erreur lors de l'affichage des réservations: {e}\")\n",
    "    else:\n",
    "        print(\"Connexion absente, impossible d'afficher les réservations.\")\n",
    "\n",
    "# Afficher les réservations\n",
    "afficher_bookings()"
   ]
  },
  {
   "cell_type": "code",
   "execution_count": 114,
   "id": "4525f3f8",
   "metadata": {},
   "outputs": [
    {
     "name": "stdout",
     "output_type": "stream",
     "text": [
      "2025-07-09 16:37:06,736 INFO sqlalchemy.engine.Engine UPDATE clients SET email=%(email)s WHERE clients.client_id = %(client_id_1)s\n",
      "2025-07-09 16:37:06,737 INFO sqlalchemy.engine.Engine [generated in 0.00101s] {'email': 'kok@gmail.com', 'client_id_1': 1}\n",
      "2025-07-09 16:37:06,739 INFO sqlalchemy.engine.Engine COMMIT\n",
      "✅ Email mis à jour avec succès.\n"
     ]
    }
   ],
   "source": [
    "update_clients = clients.update().where(clients.c.client_id == 1).values(\n",
    "    email='kok@gmail.com'\n",
    ")\n",
    "\n",
    "result = connection.execute(update_clients)\n",
    "connection.commit()\n",
    "print(\"✅ Email mis à jour avec succès.\")\n",
    "\n"
   ]
  },
  {
   "cell_type": "code",
   "execution_count": 115,
   "id": "3e65216d",
   "metadata": {},
   "outputs": [
    {
     "name": "stdout",
     "output_type": "stream",
     "text": [
      "2025-07-09 16:37:06,749 INFO sqlalchemy.engine.Engine BEGIN (implicit)\n",
      "2025-07-09 16:37:06,751 INFO sqlalchemy.engine.Engine UPDATE destinations SET price_per_person=(destinations.price_per_person * %(price_per_person_1)s) WHERE destinations.country = %(country_1)s\n",
      "2025-07-09 16:37:06,752 INFO sqlalchemy.engine.Engine [generated in 0.00265s] {'price_per_person_1': 1.1, 'country_1': 'France'}\n",
      "2025-07-09 16:37:06,755 INFO sqlalchemy.engine.Engine COMMIT\n",
      "✅ Prix mis à jour avec succès.\n"
     ]
    }
   ],
   "source": [
    "update_prix = destinations.update().where(destinations.c.country == 'France').values(\n",
    "    price_per_person = destinations.c.price_per_person * 1.10\n",
    ")\n",
    "\n",
    "result = connection.execute(update_prix)\n",
    "connection.commit()\n",
    "print(\"✅ Prix mis à jour avec succès.\")\n"
   ]
  },
  {
   "cell_type": "code",
   "execution_count": 116,
   "id": "9f3640b0",
   "metadata": {},
   "outputs": [
    {
     "name": "stdout",
     "output_type": "stream",
     "text": [
      "2025-07-09 16:37:06,764 INFO sqlalchemy.engine.Engine BEGIN (implicit)\n",
      "2025-07-09 16:37:06,765 INFO sqlalchemy.engine.Engine SELECT count(clients.client_id) AS count_1 \n",
      "FROM clients\n",
      "2025-07-09 16:37:06,766 INFO sqlalchemy.engine.Engine [generated in 0.00190s] {}\n",
      "\n",
      "Nombre total de clients: 5\n"
     ]
    }
   ],
   "source": [
    "nb_clients = connection.execute(select(func.count(clients.c.client_id))).scalar()\n",
    "print(f\"\\nNombre total de clients: {nb_clients}\")"
   ]
  },
  {
   "cell_type": "code",
   "execution_count": 117,
   "id": "abf9b8fb",
   "metadata": {},
   "outputs": [
    {
     "name": "stdout",
     "output_type": "stream",
     "text": [
      "2025-07-09 16:37:06,776 INFO sqlalchemy.engine.Engine SELECT avg(destinations.price_per_person) AS avg_1 \n",
      "FROM destinations\n",
      "2025-07-09 16:37:06,777 INFO sqlalchemy.engine.Engine [generated in 0.00111s] {}\n",
      "Prix moyen des destinations: 2895.69 €\n"
     ]
    }
   ],
   "source": [
    "avg_price = connection.execute(select(func.avg(destinations.c.price_per_person))).scalar()\n",
    "print(f\"Prix moyen des destinations: {avg_price:.2f} €\")"
   ]
  },
  {
   "cell_type": "code",
   "execution_count": 122,
   "id": "dce32919",
   "metadata": {},
   "outputs": [
    {
     "name": "stdout",
     "output_type": "stream",
     "text": [
      "2025-07-09 16:39:46,592 INFO sqlalchemy.engine.Engine SELECT destinations.name, sum(booking_items.travelers_count) AS total_travelers \n",
      "FROM booking_items JOIN destinations ON booking_items.destination_id = destinations.destination_id GROUP BY destinations.name\n",
      "2025-07-09 16:39:46,593 INFO sqlalchemy.engine.Engine [generated in 0.00125s] {}\n",
      "Total voyageurs par destination:\n",
      "Paris: 2\n",
      "New York: 3\n",
      "Tokyo: 1\n"
     ]
    }
   ],
   "source": [
    "query = (\n",
    "    select(\n",
    "        destinations.c.name,\n",
    "        func.sum(booking_items.c.travelers_count).label('total_travelers')\n",
    "    )\n",
    "    .select_from(\n",
    "        booking_items.join(destinations, booking_items.c.destination_id == destinations.c.destination_id)\n",
    "    )\n",
    "    .group_by(destinations.c.name)\n",
    ")\n",
    "\n",
    "result = connection.execute(query)\n",
    "\n",
    "print(\"Total voyageurs par destination:\")\n",
    "for row in result:\n",
    "    print(f\"{row.name}: {row.total_travelers}\")\n"
   ]
  },
  {
   "cell_type": "code",
   "execution_count": 119,
   "id": "35c6eec5",
   "metadata": {},
   "outputs": [
    {
     "name": "stdout",
     "output_type": "stream",
     "text": [
      "\n",
      "Destinations réservées > 2 fois:\n",
      "2025-07-09 16:37:06,803 INFO sqlalchemy.engine.Engine SELECT booking_items.destination_id, count(*) AS count_1 \n",
      "FROM booking_items GROUP BY booking_items.destination_id \n",
      "HAVING count(*) > %(count_2)s\n",
      "2025-07-09 16:37:06,804 INFO sqlalchemy.engine.Engine [generated in 0.00088s] {'count_2': 2}\n",
      "Aucune destination réservée plus de 2 fois.\n"
     ]
    }
   ],
   "source": [
    "print(\"\\nDestinations réservées > 2 fois:\")\n",
    "res = connection.execute(select(booking_items.c.destination_id, func.count()).group_by(booking_items.c.destination_id).having(func.count() > 2))\n",
    "if res.rowcount == 0:\n",
    "    print(\"Aucune destination réservée plus de 2 fois.\")\n",
    "else :\n",
    "        for row in res:\n",
    "                print(row)\n"
   ]
  },
  {
   "cell_type": "code",
   "execution_count": 120,
   "id": "5ec4c5f2",
   "metadata": {},
   "outputs": [
    {
     "name": "stdout",
     "output_type": "stream",
     "text": [
      "\n",
      "Clients avec > 5 voyageurs:\n",
      "2025-07-09 16:37:06,816 INFO sqlalchemy.engine.Engine SELECT bookings.client_id, sum(booking_items.travelers_count) AS sum_1 \n",
      "FROM booking_items JOIN bookings ON booking_items.booking_id = bookings.booking_id GROUP BY bookings.client_id \n",
      "HAVING sum(booking_items.travelers_count) > %(sum_2)s\n",
      "2025-07-09 16:37:06,818 INFO sqlalchemy.engine.Engine [generated in 0.00106s] {'sum_2': 5}\n",
      "Aucun client avec plus de 5 voyageurs.\n"
     ]
    }
   ],
   "source": [
    "print(\"\\nClients avec > 5 voyageurs:\")\n",
    "join_all = booking_items.join(bookings, booking_items.c.booking_id == bookings.c.booking_id)\n",
    "res = connection.execute(select(bookings.c.client_id, func.sum(booking_items.c.travelers_count)).select_from(join_all).group_by(bookings.c.client_id).having(func.sum(booking_items.c.travelers_count) > 5))\n",
    "if res.rowcount == 0:\n",
    "    print(\"Aucun client avec plus de 5 voyageurs.\")\n",
    "else :\n",
    "    print(\"Clients avec plus de 5 voyageurs:\")\n",
    "    for row in res:\n",
    "        print(row)"
   ]
  }
 ],
 "metadata": {
  "kernelspec": {
   "display_name": ".venv",
   "language": "python",
   "name": "python3"
  },
  "language_info": {
   "codemirror_mode": {
    "name": "ipython",
    "version": 3
   },
   "file_extension": ".py",
   "mimetype": "text/x-python",
   "name": "python",
   "nbconvert_exporter": "python",
   "pygments_lexer": "ipython3",
   "version": "3.13.3"
  }
 },
 "nbformat": 4,
 "nbformat_minor": 5
}
